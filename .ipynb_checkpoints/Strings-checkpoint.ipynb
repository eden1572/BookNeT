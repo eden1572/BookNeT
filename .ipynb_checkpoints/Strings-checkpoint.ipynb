{
 "cells": [
  {
   "cell_type": "code",
   "execution_count": 1,
   "id": "1709b428",
   "metadata": {},
   "outputs": [
    {
     "data": {
      "text/plain": [
       "True"
      ]
     },
     "execution_count": 1,
     "metadata": {},
     "output_type": "execute_result"
    }
   ],
   "source": [
    "'a'==\"a\""
   ]
  },
  {
   "cell_type": "code",
   "execution_count": 2,
   "id": "640f8722",
   "metadata": {},
   "outputs": [
    {
     "name": "stdout",
     "output_type": "stream",
     "text": [
      "let's learn python\n",
      "let's learn python\n"
     ]
    }
   ],
   "source": [
    "print ('let\\'s learn python') \n",
    "print(\"let's learn python\")"
   ]
  },
  {
   "cell_type": "code",
   "execution_count": 3,
   "id": "c0daf8ac",
   "metadata": {},
   "outputs": [],
   "source": [
    "string = \"let's learn python\""
   ]
  },
  {
   "cell_type": "code",
   "execution_count": 5,
   "id": "7942cc04",
   "metadata": {},
   "outputs": [
    {
     "data": {
      "text/plain": [
       "\"let's learn python\""
      ]
     },
     "execution_count": 5,
     "metadata": {},
     "output_type": "execute_result"
    }
   ],
   "source": [
    "string"
   ]
  },
  {
   "cell_type": "code",
   "execution_count": 11,
   "id": "851fd301",
   "metadata": {},
   "outputs": [
    {
     "data": {
      "text/plain": [
       "6"
      ]
     },
     "execution_count": 11,
     "metadata": {},
     "output_type": "execute_result"
    }
   ],
   "source": [
    "len ('python')"
   ]
  },
  {
   "cell_type": "code",
   "execution_count": 6,
   "id": "70b44436",
   "metadata": {},
   "outputs": [],
   "source": [
    "string = \"let's learn python\""
   ]
  },
  {
   "cell_type": "code",
   "execution_count": 7,
   "id": "aac5ea7d",
   "metadata": {},
   "outputs": [],
   "source": [
    "string = string.upper()"
   ]
  },
  {
   "cell_type": "code",
   "execution_count": 9,
   "id": "52d5fa2a",
   "metadata": {},
   "outputs": [
    {
     "data": {
      "text/plain": [
       "\"LET'S LEARN PYTHON\""
      ]
     },
     "execution_count": 9,
     "metadata": {},
     "output_type": "execute_result"
    }
   ],
   "source": [
    "string"
   ]
  },
  {
   "cell_type": "code",
   "execution_count": 10,
   "id": "8dfaaab9",
   "metadata": {},
   "outputs": [],
   "source": [
    "string = string.lower()"
   ]
  },
  {
   "cell_type": "code",
   "execution_count": 11,
   "id": "7ea78fa1",
   "metadata": {},
   "outputs": [
    {
     "data": {
      "text/plain": [
       "\"let's learn python\""
      ]
     },
     "execution_count": 11,
     "metadata": {},
     "output_type": "execute_result"
    }
   ],
   "source": [
    "string"
   ]
  },
  {
   "cell_type": "code",
   "execution_count": 12,
   "id": "5199cac9",
   "metadata": {},
   "outputs": [
    {
     "data": {
      "text/plain": [
       "\"Let's learn python\""
      ]
     },
     "execution_count": 12,
     "metadata": {},
     "output_type": "execute_result"
    }
   ],
   "source": [
    "string.capitalize()"
   ]
  },
  {
   "cell_type": "code",
   "execution_count": 13,
   "id": "26983ccb",
   "metadata": {},
   "outputs": [
    {
     "data": {
      "text/plain": [
       "\"Let'S Learn Python\""
      ]
     },
     "execution_count": 13,
     "metadata": {},
     "output_type": "execute_result"
    }
   ],
   "source": [
    "string.title()"
   ]
  },
  {
   "cell_type": "code",
   "execution_count": 14,
   "id": "514505a9",
   "metadata": {},
   "outputs": [
    {
     "data": {
      "text/plain": [
       "False"
      ]
     },
     "execution_count": 14,
     "metadata": {},
     "output_type": "execute_result"
    }
   ],
   "source": [
    "'a' == 'A'"
   ]
  },
  {
   "cell_type": "code",
   "execution_count": 15,
   "id": "7a4ae56e",
   "metadata": {},
   "outputs": [
    {
     "data": {
      "text/plain": [
       "\"let's learn python\""
      ]
     },
     "execution_count": 15,
     "metadata": {},
     "output_type": "execute_result"
    }
   ],
   "source": [
    "string "
   ]
  },
  {
   "cell_type": "code",
   "execution_count": 16,
   "id": "dbf647a0",
   "metadata": {},
   "outputs": [
    {
     "data": {
      "text/plain": [
       "False"
      ]
     },
     "execution_count": 16,
     "metadata": {},
     "output_type": "execute_result"
    }
   ],
   "source": [
    "string.isupper()"
   ]
  },
  {
   "cell_type": "code",
   "execution_count": 24,
   "id": "e62971f3",
   "metadata": {},
   "outputs": [],
   "source": [
    "string = string.upper()"
   ]
  },
  {
   "cell_type": "code",
   "execution_count": 25,
   "id": "a60b4061",
   "metadata": {},
   "outputs": [
    {
     "data": {
      "text/plain": [
       "True"
      ]
     },
     "execution_count": 25,
     "metadata": {},
     "output_type": "execute_result"
    }
   ],
   "source": [
    "string.isupper()"
   ]
  },
  {
   "cell_type": "code",
   "execution_count": 26,
   "id": "07111032",
   "metadata": {},
   "outputs": [
    {
     "data": {
      "text/plain": [
       "False"
      ]
     },
     "execution_count": 26,
     "metadata": {},
     "output_type": "execute_result"
    }
   ],
   "source": [
    "string.islower()"
   ]
  },
  {
   "cell_type": "code",
   "execution_count": null,
   "id": "df7b33ac",
   "metadata": {},
   "outputs": [],
   "source": []
  }
 ],
 "metadata": {
  "kernelspec": {
   "display_name": "Python 3 (ipykernel)",
   "language": "python",
   "name": "python3"
  },
  "language_info": {
   "codemirror_mode": {
    "name": "ipython",
    "version": 3
   },
   "file_extension": ".py",
   "mimetype": "text/x-python",
   "name": "python",
   "nbconvert_exporter": "python",
   "pygments_lexer": "ipython3",
   "version": "3.10.1"
  }
 },
 "nbformat": 4,
 "nbformat_minor": 5
}
