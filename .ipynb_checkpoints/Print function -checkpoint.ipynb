{
 "cells": [
  {
   "cell_type": "code",
   "execution_count": 8,
   "id": "2ec740ea",
   "metadata": {},
   "outputs": [
    {
     "name": "stdout",
     "output_type": "stream",
     "text": [
      "2\n",
      "4\n"
     ]
    }
   ],
   "source": [
    "print(1 + 1) \n",
    "print (2 + 2) "
   ]
  },
  {
   "cell_type": "code",
   "execution_count": 44,
   "id": "44eaa95b",
   "metadata": {},
   "outputs": [
    {
     "name": "stdout",
     "output_type": "stream",
     "text": [
      "123\n"
     ]
    }
   ],
   "source": [
    "print (1+0, end='')\n",
    "print (2+0, end='')\n",
    "print (3+0)"
   ]
  },
  {
   "cell_type": "code",
   "execution_count": 12,
   "id": "2d881523",
   "metadata": {},
   "outputs": [
    {
     "name": "stdout",
     "output_type": "stream",
     "text": [
      "Hello Goodbye\n"
     ]
    }
   ],
   "source": [
    "print (\"Hello\" + (' Goodbye'))"
   ]
  },
  {
   "cell_type": "code",
   "execution_count": 48,
   "id": "7ccee6e5",
   "metadata": {},
   "outputs": [
    {
     "name": "stdout",
     "output_type": "stream",
     "text": [
      "Hello Goodbye\n"
     ]
    }
   ],
   "source": [
    "print ( ('Hello') + ( ' Goodbye') ) "
   ]
  },
  {
   "cell_type": "code",
   "execution_count": 14,
   "id": "d85cd398",
   "metadata": {},
   "outputs": [
    {
     "name": "stdout",
     "output_type": "stream",
     "text": [
      "Hi 100\n"
     ]
    }
   ],
   "source": [
    "print ( 'Hi', 100)"
   ]
  },
  {
   "cell_type": "code",
   "execution_count": 51,
   "id": "ffe6f772",
   "metadata": {},
   "outputs": [
    {
     "name": "stdout",
     "output_type": "stream",
     "text": [
      "Hi 100\n"
     ]
    }
   ],
   "source": [
    "print ('Hi' ,  100 )"
   ]
  },
  {
   "cell_type": "code",
   "execution_count": 17,
   "id": "d7e72677",
   "metadata": {},
   "outputs": [
    {
     "name": "stdout",
     "output_type": "stream",
     "text": [
      "100-10-Python-True\n"
     ]
    }
   ],
   "source": [
    "print (100, 10, 'Python', 100 < 200, sep='-')"
   ]
  },
  {
   "cell_type": "code",
   "execution_count": 66,
   "id": "338d1f5d",
   "metadata": {},
   "outputs": [
    {
     "name": "stdout",
     "output_type": "stream",
     "text": [
      "Hello, my name is EDEN\n"
     ]
    }
   ],
   "source": [
    "print ('Hello', \"my name is EDEN\", sep= ', ')"
   ]
  },
  {
   "cell_type": "code",
   "execution_count": 61,
   "id": "bf41563d",
   "metadata": {},
   "outputs": [
    {
     "name": "stdout",
     "output_type": "stream",
     "text": [
      "1\n",
      "2\n",
      "3\n"
     ]
    }
   ],
   "source": [
    "print (1) \n",
    "print (2) \n",
    "print (3)"
   ]
  },
  {
   "cell_type": "code",
   "execution_count": 20,
   "id": "a4e117ff",
   "metadata": {},
   "outputs": [
    {
     "name": "stdout",
     "output_type": "stream",
     "text": [
      "123\n"
     ]
    }
   ],
   "source": [
    "print (1,end='')\n",
    "print (2,end='')\n",
    "print (3)"
   ]
  },
  {
   "cell_type": "code",
   "execution_count": 68,
   "id": "f48c8cfa",
   "metadata": {},
   "outputs": [
    {
     "name": "stdout",
     "output_type": "stream",
     "text": [
      "Hello, My name is EDEN\n"
     ]
    }
   ],
   "source": [
    "print ('Hello', end='')\n",
    "print (', My name is EDEN')"
   ]
  },
  {
   "cell_type": "code",
   "execution_count": 32,
   "id": "c402883f",
   "metadata": {},
   "outputs": [
    {
     "name": "stdout",
     "output_type": "stream",
     "text": [
      "This is a row \t  This is another row\n"
     ]
    }
   ],
   "source": [
    "print ('This is a row \\t  This is another row')"
   ]
  },
  {
   "cell_type": "code",
   "execution_count": 34,
   "id": "36a2939b",
   "metadata": {},
   "outputs": [
    {
     "name": "stdout",
     "output_type": "stream",
     "text": [
      "I can't print this\n"
     ]
    }
   ],
   "source": [
    "print ('I can\\'t print this')"
   ]
  },
  {
   "cell_type": "code",
   "execution_count": 72,
   "id": "604b167d",
   "metadata": {},
   "outputs": [
    {
     "name": "stdout",
     "output_type": "stream",
     "text": [
      "This is my name\n",
      "my name is Eden\n"
     ]
    }
   ],
   "source": [
    "print ('This is my name\\nmy name is Eden')"
   ]
  },
  {
   "cell_type": "code",
   "execution_count": 77,
   "id": "fa91ce2b",
   "metadata": {},
   "outputs": [
    {
     "name": "stdout",
     "output_type": "stream",
     "text": [
      "My name's dog is BOSS\n",
      "my dog's name is BOSS\n"
     ]
    }
   ],
   "source": [
    "print ('My name\\'s dog is BOSS\\nmy dog\\'s name is BOSS')"
   ]
  },
  {
   "cell_type": "code",
   "execution_count": 86,
   "id": "591ea5d1",
   "metadata": {},
   "outputs": [
    {
     "name": "stdout",
     "output_type": "stream",
     "text": [
      "My name is Eden\t Eden is my name\n"
     ]
    }
   ],
   "source": [
    "print ('My name is Eden\\t Eden is my name')"
   ]
  },
  {
   "cell_type": "code",
   "execution_count": 88,
   "id": "33f0bf9b",
   "metadata": {},
   "outputs": [
    {
     "name": "stdout",
     "output_type": "stream",
     "text": [
      "I can't print this\n"
     ]
    }
   ],
   "source": [
    "print (\"I can\\'t print this\")"
   ]
  },
  {
   "cell_type": "code",
   "execution_count": null,
   "id": "3ef4dac1",
   "metadata": {},
   "outputs": [],
   "source": []
  }
 ],
 "metadata": {
  "kernelspec": {
   "display_name": "Python 3 (ipykernel)",
   "language": "python",
   "name": "python3"
  },
  "language_info": {
   "codemirror_mode": {
    "name": "ipython",
    "version": 3
   },
   "file_extension": ".py",
   "mimetype": "text/x-python",
   "name": "python",
   "nbconvert_exporter": "python",
   "pygments_lexer": "ipython3",
   "version": "3.10.1"
  }
 },
 "nbformat": 4,
 "nbformat_minor": 5
}
