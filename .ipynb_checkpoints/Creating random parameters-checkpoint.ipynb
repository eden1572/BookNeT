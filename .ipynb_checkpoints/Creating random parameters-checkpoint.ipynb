{
 "cells": [
  {
   "cell_type": "code",
   "execution_count": 1,
   "id": "45ab1cd7",
   "metadata": {},
   "outputs": [],
   "source": [
    "import random as rd "
   ]
  },
  {
   "cell_type": "code",
   "execution_count": 28,
   "id": "be40aa94",
   "metadata": {},
   "outputs": [
    {
     "data": {
      "text/plain": [
       "0.879153842927266"
      ]
     },
     "execution_count": 28,
     "metadata": {},
     "output_type": "execute_result"
    }
   ],
   "source": [
    "rd.random ()"
   ]
  },
  {
   "cell_type": "code",
   "execution_count": 27,
   "id": "453ef54c",
   "metadata": {},
   "outputs": [
    {
     "data": {
      "text/plain": [
       "70"
      ]
     },
     "execution_count": 27,
     "metadata": {},
     "output_type": "execute_result"
    }
   ],
   "source": [
    "rd.randint (1,100)"
   ]
  },
  {
   "cell_type": "code",
   "execution_count": 13,
   "id": "aec25d3f",
   "metadata": {},
   "outputs": [
    {
     "data": {
      "text/plain": [
       "50.326861220054106"
      ]
     },
     "execution_count": 13,
     "metadata": {},
     "output_type": "execute_result"
    }
   ],
   "source": [
    "rd.uniform (1,100)"
   ]
  },
  {
   "cell_type": "code",
   "execution_count": 14,
   "id": "136b7b02",
   "metadata": {},
   "outputs": [],
   "source": [
    "numbers = [1,2,3,4,5]\n"
   ]
  },
  {
   "cell_type": "code",
   "execution_count": 97,
   "id": "64089bde",
   "metadata": {},
   "outputs": [
    {
     "data": {
      "text/plain": [
       "4"
      ]
     },
     "execution_count": 97,
     "metadata": {},
     "output_type": "execute_result"
    }
   ],
   "source": [
    "rd.choice (numbers)"
   ]
  },
  {
   "cell_type": "code",
   "execution_count": 29,
   "id": "d99bb7a5",
   "metadata": {},
   "outputs": [
    {
     "ename": "TypeError",
     "evalue": "Random.randint() missing 2 required positional arguments: 'a' and 'b'",
     "output_type": "error",
     "traceback": [
      "\u001b[1;31m---------------------------------------------------------------------------\u001b[0m",
      "\u001b[1;31mTypeError\u001b[0m                                 Traceback (most recent call last)",
      "\u001b[1;32m~\\AppData\\Local\\Temp/ipykernel_23000/3007307901.py\u001b[0m in \u001b[0;36m<module>\u001b[1;34m\u001b[0m\n\u001b[1;32m----> 1\u001b[1;33m \u001b[0mrd\u001b[0m\u001b[1;33m.\u001b[0m\u001b[0mrandint\u001b[0m \u001b[1;33m(\u001b[0m\u001b[1;33m)\u001b[0m\u001b[1;33m\u001b[0m\u001b[1;33m\u001b[0m\u001b[0m\n\u001b[0m",
      "\u001b[1;31mTypeError\u001b[0m: Random.randint() missing 2 required positional arguments: 'a' and 'b'"
     ]
    }
   ],
   "source": [
    "rd.randint ()"
   ]
  },
  {
   "cell_type": "code",
   "execution_count": 31,
   "id": "1a4e4748",
   "metadata": {},
   "outputs": [
    {
     "data": {
      "text/plain": [
       "0.5243472503241585"
      ]
     },
     "execution_count": 31,
     "metadata": {},
     "output_type": "execute_result"
    }
   ],
   "source": [
    "rd.random ()"
   ]
  },
  {
   "cell_type": "code",
   "execution_count": 44,
   "id": "975905f7",
   "metadata": {},
   "outputs": [
    {
     "data": {
      "text/plain": [
       "2"
      ]
     },
     "execution_count": 44,
     "metadata": {},
     "output_type": "execute_result"
    }
   ],
   "source": [
    "rd. randint (1,2)"
   ]
  },
  {
   "cell_type": "code",
   "execution_count": 47,
   "id": "a80f268f",
   "metadata": {},
   "outputs": [
    {
     "data": {
      "text/plain": [
       "1.7714471302026553"
      ]
     },
     "execution_count": 47,
     "metadata": {},
     "output_type": "execute_result"
    }
   ],
   "source": [
    "rd.uniform (1,2) "
   ]
  },
  {
   "cell_type": "code",
   "execution_count": 48,
   "id": "6ad2a990",
   "metadata": {},
   "outputs": [],
   "source": [
    "numbers = [1,2,3,4,5]"
   ]
  },
  {
   "cell_type": "code",
   "execution_count": 53,
   "id": "64698aed",
   "metadata": {},
   "outputs": [
    {
     "data": {
      "text/plain": [
       "2"
      ]
     },
     "execution_count": 53,
     "metadata": {},
     "output_type": "execute_result"
    }
   ],
   "source": [
    "rd.choice (numbers)"
   ]
  },
  {
   "cell_type": "code",
   "execution_count": 90,
   "id": "d9b734b6",
   "metadata": {},
   "outputs": [
    {
     "ename": "SyntaxError",
     "evalue": "invalid syntax (Temp/ipykernel_23000/2638630182.py, line 1)",
     "output_type": "error",
     "traceback": [
      "\u001b[1;36m  File \u001b[1;32m\"C:\\Users\\USER\\AppData\\Local\\Temp/ipykernel_23000/2638630182.py\"\u001b[1;36m, line \u001b[1;32m1\u001b[0m\n\u001b[1;33m    rd.sample (numbers, 6) // יותר מהמספר הקיים במשתנה\u001b[0m\n\u001b[1;37m                                   ^\u001b[0m\n\u001b[1;31mSyntaxError\u001b[0m\u001b[1;31m:\u001b[0m invalid syntax\n"
     ]
    }
   ],
   "source": [
    "rd.sample (numbers, 6) // יותר מהמספר הקיים במשתנה"
   ]
  },
  {
   "cell_type": "code",
   "execution_count": 93,
   "id": "b0964309",
   "metadata": {},
   "outputs": [
    {
     "ename": "SyntaxError",
     "evalue": "invalid syntax (Temp/ipykernel_23000/1546286597.py, line 1)",
     "output_type": "error",
     "traceback": [
      "\u001b[1;36m  File \u001b[1;32m\"C:\\Users\\USER\\AppData\\Local\\Temp/ipykernel_23000/1546286597.py\"\u001b[1;36m, line \u001b[1;32m1\u001b[0m\n\u001b[1;33m    rd.sample (numbers, 5) /* takin * /\u001b[0m\n\u001b[1;37m                            ^\u001b[0m\n\u001b[1;31mSyntaxError\u001b[0m\u001b[1;31m:\u001b[0m invalid syntax\n"
     ]
    }
   ],
   "source": [
    "rd.sample (numbers, 5) /* takin * /"
   ]
  },
  {
   "cell_type": "code",
   "execution_count": null,
   "id": "86c11011",
   "metadata": {},
   "outputs": [],
   "source": []
  },
  {
   "cell_type": "raw",
   "id": "b17c9c68",
   "metadata": {},
   "source": []
  },
  {
   "cell_type": "raw",
   "id": "5f98e5c6",
   "metadata": {},
   "source": []
  }
 ],
 "metadata": {
  "kernelspec": {
   "display_name": "Python 3 (ipykernel)",
   "language": "python",
   "name": "python3"
  },
  "language_info": {
   "codemirror_mode": {
    "name": "ipython",
    "version": 3
   },
   "file_extension": ".py",
   "mimetype": "text/x-python",
   "name": "python",
   "nbconvert_exporter": "python",
   "pygments_lexer": "ipython3",
   "version": "3.10.1"
  }
 },
 "nbformat": 4,
 "nbformat_minor": 5
}
