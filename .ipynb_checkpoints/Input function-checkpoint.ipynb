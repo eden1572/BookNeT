{
 "cells": [
  {
   "cell_type": "code",
   "execution_count": 5,
   "id": "7e36a1f6",
   "metadata": {},
   "outputs": [
    {
     "name": "stdout",
     "output_type": "stream",
     "text": [
      "start\n",
      "end\n"
     ]
    }
   ],
   "source": [
    "print ('start')\n",
    "print ('end')"
   ]
  },
  {
   "cell_type": "code",
   "execution_count": 7,
   "id": "07e34164",
   "metadata": {},
   "outputs": [
    {
     "name": "stdout",
     "output_type": "stream",
     "text": [
      "start\n",
      "123\n",
      "end\n"
     ]
    }
   ],
   "source": [
    "print ('start')\n",
    "input ()\n",
    "print ('end')"
   ]
  },
  {
   "cell_type": "code",
   "execution_count": 2,
   "id": "390bef24",
   "metadata": {},
   "outputs": [
    {
     "name": "stdout",
     "output_type": "stream",
     "text": [
      "start\n",
      "please enter your name: Eden\n",
      "Hello Eden!\n",
      "end\n"
     ]
    }
   ],
   "source": [
    "print ('start')\n",
    "name = input ('please enter your name: ')\n",
    "print ('Hello '+ name+ '!')\n",
    "print ('end')"
   ]
  },
  {
   "cell_type": "code",
   "execution_count": 1,
   "id": "6ca9a003",
   "metadata": {},
   "outputs": [
    {
     "name": "stdout",
     "output_type": "stream",
     "text": [
      "start\n",
      "please enter your first name: Eden\n",
      "please enter your last name: Cohen\n",
      "please enter your location: Israel\n",
      "Hello Eden Cohen welcome to Israel !\n",
      "end\n"
     ]
    }
   ],
   "source": [
    "print ('start')\n",
    "first = input ('please enter your first name: ')\n",
    "last = input ('please enter your last name: ')\n",
    "location = input ('please enter your location: ')\n",
    "print ('Hello', first , last, 'welcome to' ,location, '!')\n",
    "print ('end')"
   ]
  },
  {
   "cell_type": "code",
   "execution_count": 2,
   "id": "fa8d8cfc",
   "metadata": {},
   "outputs": [
    {
     "name": "stdout",
     "output_type": "stream",
     "text": [
      "2\n"
     ]
    },
    {
     "data": {
      "text/plain": [
       "'2'"
      ]
     },
     "execution_count": 2,
     "metadata": {},
     "output_type": "execute_result"
    }
   ],
   "source": [
    "input ()"
   ]
  },
  {
   "cell_type": "code",
   "execution_count": 1,
   "id": "ac3a7ab9",
   "metadata": {},
   "outputs": [
    {
     "name": "stdout",
     "output_type": "stream",
     "text": [
      "2\n"
     ]
    },
    {
     "data": {
      "text/plain": [
       "'2'"
      ]
     },
     "execution_count": 1,
     "metadata": {},
     "output_type": "execute_result"
    }
   ],
   "source": [
    "input()"
   ]
  },
  {
   "cell_type": "code",
   "execution_count": 3,
   "id": "b14d28dc",
   "metadata": {},
   "outputs": [
    {
     "name": "stdout",
     "output_type": "stream",
     "text": [
      "start\n",
      "Eden\n",
      "end\n"
     ]
    }
   ],
   "source": [
    "print ('start')\n",
    "input ()\n",
    "print ('end')"
   ]
  },
  {
   "cell_type": "code",
   "execution_count": 6,
   "id": "10c883e7",
   "metadata": {},
   "outputs": [
    {
     "name": "stdout",
     "output_type": "stream",
     "text": [
      "Hello\n",
      "please enter your name: Eden\n",
      "Hello Eden welcome to the game!\n"
     ]
    }
   ],
   "source": [
    "print ('Hello')\n",
    "name = input ('please enter your name: ')\n",
    "print ('Hello', name, 'welcome to the game!')"
   ]
  },
  {
   "cell_type": "code",
   "execution_count": 7,
   "id": "3ef7c2a0",
   "metadata": {},
   "outputs": [
    {
     "name": "stdout",
     "output_type": "stream",
     "text": [
      "please enter a number10\n"
     ]
    }
   ],
   "source": [
    "number = input ('please enter a number')"
   ]
  },
  {
   "cell_type": "code",
   "execution_count": 8,
   "id": "5496983b",
   "metadata": {},
   "outputs": [
    {
     "data": {
      "text/plain": [
       "'10'"
      ]
     },
     "execution_count": 8,
     "metadata": {},
     "output_type": "execute_result"
    }
   ],
   "source": [
    "number"
   ]
  },
  {
   "cell_type": "code",
   "execution_count": 9,
   "id": "ee505d58",
   "metadata": {},
   "outputs": [
    {
     "data": {
      "text/plain": [
       "str"
      ]
     },
     "execution_count": 9,
     "metadata": {},
     "output_type": "execute_result"
    }
   ],
   "source": [
    "type (number)"
   ]
  },
  {
   "cell_type": "code",
   "execution_count": 12,
   "id": "480c8c32",
   "metadata": {},
   "outputs": [
    {
     "name": "stdout",
     "output_type": "stream",
     "text": [
      "please enter a random number between 1-10: 1\n"
     ]
    }
   ],
   "source": [
    "number = input ('please enter a random number between 1-10: ')"
   ]
  },
  {
   "cell_type": "code",
   "execution_count": 13,
   "id": "5c4f4f15",
   "metadata": {},
   "outputs": [
    {
     "data": {
      "text/plain": [
       "'1'"
      ]
     },
     "execution_count": 13,
     "metadata": {},
     "output_type": "execute_result"
    }
   ],
   "source": [
    "number"
   ]
  },
  {
   "cell_type": "code",
   "execution_count": 14,
   "id": "63b7f601",
   "metadata": {},
   "outputs": [
    {
     "data": {
      "text/plain": [
       "str"
      ]
     },
     "execution_count": 14,
     "metadata": {},
     "output_type": "execute_result"
    }
   ],
   "source": [
    "type (number)"
   ]
  },
  {
   "cell_type": "code",
   "execution_count": null,
   "id": "30c54c17",
   "metadata": {},
   "outputs": [],
   "source": []
  }
 ],
 "metadata": {
  "kernelspec": {
   "display_name": "Python 3 (ipykernel)",
   "language": "python",
   "name": "python3"
  },
  "language_info": {
   "codemirror_mode": {
    "name": "ipython",
    "version": 3
   },
   "file_extension": ".py",
   "mimetype": "text/x-python",
   "name": "python",
   "nbconvert_exporter": "python",
   "pygments_lexer": "ipython3",
   "version": "3.10.1"
  }
 },
 "nbformat": 4,
 "nbformat_minor": 5
}
