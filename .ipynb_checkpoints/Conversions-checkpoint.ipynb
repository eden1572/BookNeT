{
 "cells": [
  {
   "cell_type": "code",
   "execution_count": 3,
   "id": "b963620a",
   "metadata": {
    "scrolled": true
   },
   "outputs": [
    {
     "name": "stdout",
     "output_type": "stream",
     "text": [
      "please enter your workuing numbers: 5\n",
      "555555555555555555555555555555\n"
     ]
    }
   ],
   "source": [
    "hours = input ('please enter your workuing numbers: ')\n",
    "rate = 30\n",
    "print (hours * rate )"
   ]
  },
  {
   "cell_type": "code",
   "execution_count": 5,
   "id": "72fb7869",
   "metadata": {},
   "outputs": [
    {
     "data": {
      "text/plain": [
       "str"
      ]
     },
     "execution_count": 5,
     "metadata": {},
     "output_type": "execute_result"
    }
   ],
   "source": [
    "type (hours)"
   ]
  },
  {
   "cell_type": "code",
   "execution_count": 6,
   "id": "62359326",
   "metadata": {},
   "outputs": [
    {
     "data": {
      "text/plain": [
       "'aaaaaaaaaa'"
      ]
     },
     "execution_count": 6,
     "metadata": {},
     "output_type": "execute_result"
    }
   ],
   "source": [
    "'a' * 10"
   ]
  },
  {
   "cell_type": "code",
   "execution_count": 7,
   "id": "e879d154",
   "metadata": {},
   "outputs": [
    {
     "name": "stdout",
     "output_type": "stream",
     "text": [
      "please enter your workuing numbers: 5\n",
      "150\n"
     ]
    }
   ],
   "source": [
    "hours = input ('please enter your workuing numbers: ')\n",
    "rate = 30\n",
    "print (int (hours) * rate )"
   ]
  },
  {
   "cell_type": "code",
   "execution_count": 13,
   "id": "82f744d6",
   "metadata": {},
   "outputs": [
    {
     "name": "stdout",
     "output_type": "stream",
     "text": [
      "please enter your workuing numbers: 5\n",
      "please enter your hourly rate: 30\n",
      "150\n"
     ]
    }
   ],
   "source": [
    "hours = int (input ('please enter your workuing numbers: '))\n",
    "rate = int (input ('please enter your hourly rate: '))\n",
    "print (int(hours) * int(rate) )"
   ]
  },
  {
   "cell_type": "code",
   "execution_count": 14,
   "id": "bb5d8fe2",
   "metadata": {},
   "outputs": [
    {
     "data": {
      "text/plain": [
       "int"
      ]
     },
     "execution_count": 14,
     "metadata": {},
     "output_type": "execute_result"
    }
   ],
   "source": [
    "type (hours)"
   ]
  },
  {
   "cell_type": "code",
   "execution_count": 3,
   "id": "41b8b216",
   "metadata": {},
   "outputs": [
    {
     "name": "stdout",
     "output_type": "stream",
     "text": [
      "please enter your workuing numbers: 5\n",
      "please enter your hourly rate: 30\n"
     ]
    },
    {
     "ename": "TypeError",
     "evalue": "can only concatenate str (not \"int\") to str",
     "output_type": "error",
     "traceback": [
      "\u001b[1;31m---------------------------------------------------------------------------\u001b[0m",
      "\u001b[1;31mTypeError\u001b[0m                                 Traceback (most recent call last)",
      "\u001b[1;32m~\\AppData\\Local\\Temp/ipykernel_18932/3431330470.py\u001b[0m in \u001b[0;36m<module>\u001b[1;34m\u001b[0m\n\u001b[0;32m      2\u001b[0m \u001b[0mrate\u001b[0m \u001b[1;33m=\u001b[0m \u001b[0mint\u001b[0m \u001b[1;33m(\u001b[0m\u001b[0minput\u001b[0m \u001b[1;33m(\u001b[0m\u001b[1;34m'please enter your hourly rate: '\u001b[0m\u001b[1;33m)\u001b[0m\u001b[1;33m)\u001b[0m\u001b[1;33m\u001b[0m\u001b[1;33m\u001b[0m\u001b[0m\n\u001b[0;32m      3\u001b[0m \u001b[1;33m\u001b[0m\u001b[0m\n\u001b[1;32m----> 4\u001b[1;33m \u001b[0mprint\u001b[0m \u001b[1;33m(\u001b[0m\u001b[1;34m'Your daily salary is'\u001b[0m\u001b[1;33m+\u001b[0m \u001b[1;33m(\u001b[0m\u001b[0mint\u001b[0m\u001b[1;33m(\u001b[0m\u001b[0mhours\u001b[0m\u001b[1;33m)\u001b[0m \u001b[1;33m*\u001b[0m \u001b[0mint\u001b[0m\u001b[1;33m(\u001b[0m\u001b[0mrate\u001b[0m\u001b[1;33m)\u001b[0m \u001b[1;33m)\u001b[0m\u001b[1;33m)\u001b[0m\u001b[1;33m\u001b[0m\u001b[1;33m\u001b[0m\u001b[0m\n\u001b[0m",
      "\u001b[1;31mTypeError\u001b[0m: can only concatenate str (not \"int\") to str"
     ]
    }
   ],
   "source": [
    "hours = int (input ('please enter your workuing numbers: '))\n",
    "rate = int (input ('please enter your hourly rate: '))\n",
    "\n",
    "print ('Your daily salary is'+ (int(hours) * int(rate) ))"
   ]
  },
  {
   "cell_type": "code",
   "execution_count": 4,
   "id": "73bd280b",
   "metadata": {},
   "outputs": [
    {
     "name": "stdout",
     "output_type": "stream",
     "text": [
      "please enter your workuing numbers: 5\n",
      "please enter your hourly rate: 30\n",
      "Your daily salary is 150\n"
     ]
    }
   ],
   "source": [
    "hours = int (input ('please enter your workuing numbers: '))\n",
    "rate = int (input ('please enter your hourly rate: '))\n",
    "\n",
    "print ('Your daily salary is' , (int(hours) * int(rate) ))"
   ]
  },
  {
   "cell_type": "code",
   "execution_count": 5,
   "id": "dcbcb426",
   "metadata": {},
   "outputs": [
    {
     "name": "stdout",
     "output_type": "stream",
     "text": [
      "please enter your workuing numbers: 5\n",
      "please enter your hourly rate: 30\n",
      "your daily salary is: 150\n"
     ]
    }
   ],
   "source": [
    "hours = int (input ('please enter your workuing numbers: '))\n",
    "rate = int (input ('please enter your hourly rate: '))\n",
    "\n",
    "print ('your daily salary is: '+ str (hours*rate) ) "
   ]
  },
  {
   "cell_type": "code",
   "execution_count": 16,
   "id": "5f664c33",
   "metadata": {},
   "outputs": [
    {
     "name": "stdout",
     "output_type": "stream",
     "text": [
      "please enter your workuing numbers: 8.5\n",
      "please enter your hourly rate: 65\n",
      "your daily salary is: 552.5\n"
     ]
    }
   ],
   "source": [
    "hours = float (input ('please enter your workuing numbers: '))\n",
    "rate = float (input ('please enter your hourly rate: '))\n",
    "\n",
    "print ('your daily salary is: '+ str (hours*rate) ) "
   ]
  },
  {
   "cell_type": "code",
   "execution_count": 12,
   "id": "7edee7fc",
   "metadata": {},
   "outputs": [
    {
     "data": {
      "text/plain": [
       "10.1"
      ]
     },
     "execution_count": 12,
     "metadata": {},
     "output_type": "execute_result"
    }
   ],
   "source": [
    "float ('10.1')"
   ]
  },
  {
   "cell_type": "code",
   "execution_count": 18,
   "id": "8e5dbb3d",
   "metadata": {},
   "outputs": [
    {
     "ename": "SyntaxError",
     "evalue": "invalid syntax (Temp/ipykernel_18932/3071316671.py, line 3)",
     "output_type": "error",
     "traceback": [
      "\u001b[1;36m  File \u001b[1;32m\"C:\\Users\\USER\\AppData\\Local\\Temp/ipykernel_18932/3071316671.py\"\u001b[1;36m, line \u001b[1;32m3\u001b[0m\n\u001b[1;33m    daily salary = hours * rate\u001b[0m\n\u001b[1;37m          ^\u001b[0m\n\u001b[1;31mSyntaxError\u001b[0m\u001b[1;31m:\u001b[0m invalid syntax\n"
     ]
    }
   ],
   "source": [
    "hours = float (input ('please enter your workuing numbers: '))\n",
    "rate = float (input ('please enter your hourly rate: '))\n",
    "daily salary = hours * rate \n",
    "print ('your daily salary is: ' + str (daily salary) )"
   ]
  },
  {
   "cell_type": "code",
   "execution_count": 26,
   "id": "6d2a876f",
   "metadata": {},
   "outputs": [
    {
     "name": "stdout",
     "output_type": "stream",
     "text": [
      "please enter your workuing numbers: 5\n",
      "please enter your hourly rate: 0.5\n",
      "2.5\n"
     ]
    }
   ],
   "source": [
    "hours = float (input ('please enter your workuing numbers: '))\n",
    "rate = float (input ('please enter your hourly rate: '))\n",
    "dailysalary = (hours * rate) \n",
    "print (dailysalary)"
   ]
  },
  {
   "cell_type": "code",
   "execution_count": 2,
   "id": "ef1014da",
   "metadata": {},
   "outputs": [
    {
     "name": "stdout",
     "output_type": "stream",
     "text": [
      "please enter your workuing hours: 8.5\n",
      "please enter your hourly rate: 65\n",
      "please enter how much days you work in this month: 22\n",
      "your daily salary is: 12155\n"
     ]
    }
   ],
   "source": [
    "hours = float (input ('please enter your workuing hours: '))\n",
    "rate = float (input ('please enter your hourly rate: '))\n",
    "days=  int (input ('please enter how much days you work in this month: '))\n",
    "dailysalary = (hours * rate) \n",
    "salary = int ((dailysalary * days))\n",
    "print ('your daily salary is: ' + str (salary) )"
   ]
  },
  {
   "cell_type": "code",
   "execution_count": 1,
   "id": "af99e9c5",
   "metadata": {},
   "outputs": [
    {
     "name": "stdout",
     "output_type": "stream",
     "text": [
      "please enter your monthly hours working: 80\n",
      "please enter your hourly salary: 29.17\n",
      "Your monthly salary is: 2334\n"
     ]
    }
   ],
   "source": [
    "hours = float (input ('please enter your monthly hours working: '))\n",
    "rate = float (input ('please enter your hourly salary: '))\n",
    "salary = round(hours*rate)\n",
    "print ('Your monthly salary is: ' + str (salary))"
   ]
  },
  {
   "cell_type": "code",
   "execution_count": 4,
   "id": "e429cf03",
   "metadata": {},
   "outputs": [
    {
     "name": "stdout",
     "output_type": "stream",
     "text": [
      "please enter your monthly service salary: 1050\n",
      "you need to get in this month 3384 shekels\n"
     ]
    }
   ],
   "source": [
    "service = int (input ('please enter your monthly service salary: '))\n",
    "print ('you need to get in this month ' + str(service+salary)+ ' shekels')"
   ]
  },
  {
   "cell_type": "code",
   "execution_count": 5,
   "id": "4ff7f6c0",
   "metadata": {},
   "outputs": [
    {
     "name": "stdout",
     "output_type": "stream",
     "text": [
      "In this year until your end service your general salary is: 23688\n"
     ]
    }
   ],
   "source": [
    "print ('In this year until your end service your general salary is: ' + str ( 7*(service+salary)))"
   ]
  },
  {
   "cell_type": "code",
   "execution_count": null,
   "id": "74be0850",
   "metadata": {},
   "outputs": [],
   "source": []
  }
 ],
 "metadata": {
  "kernelspec": {
   "display_name": "Python 3 (ipykernel)",
   "language": "python",
   "name": "python3"
  },
  "language_info": {
   "codemirror_mode": {
    "name": "ipython",
    "version": 3
   },
   "file_extension": ".py",
   "mimetype": "text/x-python",
   "name": "python",
   "nbconvert_exporter": "python",
   "pygments_lexer": "ipython3",
   "version": "3.10.1"
  }
 },
 "nbformat": 4,
 "nbformat_minor": 5
}
